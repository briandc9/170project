{
 "cells": [
  {
   "cell_type": "markdown",
   "metadata": {},
   "source": [
    "# Python Helper Methods"
   ]
  },
  {
   "cell_type": "code",
   "execution_count": 118,
   "metadata": {},
   "outputs": [],
   "source": [
    "import sys"
   ]
  },
  {
   "cell_type": "markdown",
   "metadata": {},
   "source": [
    "## --------- Read input file ----------"
   ]
  },
  {
   "cell_type": "code",
   "execution_count": 6,
   "metadata": {},
   "outputs": [],
   "source": [
    "#TODO: make f for every input\n",
    "\n",
    "f = \"inputs/100_50.in\"\n",
    "#f = \"inputs/342_50.in\"\n",
    "#f = \"inputs/151_50.in\""
   ]
  },
  {
   "cell_type": "code",
   "execution_count": 51,
   "metadata": {},
   "outputs": [],
   "source": [
    "#Takes in file location as string\n",
    "#Outputs tuple of ({adjacency dictionary}, [names of homes], [indices of homes], start_loc)\n",
    "\n",
    "def take_input(f):\n",
    "    file = open(f, \"r\")\n",
    "    file_lines = file.readlines()\n",
    "    \n",
    "    n = int(file_lines[0]) #num locs\n",
    "    h = int(file_lines[1]) #num homes\n",
    "    locs = file_lines[2].split()\n",
    "    homes = file_lines[3].split()\n",
    "    start = file_lines[4]\n",
    "    \n",
    "    home_indices = [locs.index(i) for i in homes]  #list of home location indices\n",
    "    \n",
    "    #Create dictionary for every location\n",
    "    adjacencies = {}\n",
    "    \n",
    "    #Create dictionary of adjacencent locations for every location\n",
    "    # adjacencies = {\"loc\" : [distance to every other loc], ...}\n",
    "    # If distance == \"x\" -> None\n",
    "    for i in range(0,n):\n",
    "        adj = [None if j == \"x\" else int(j) for j in file_lines[5+i].split()]\n",
    "        adjacencies[locs[i]] = adj\n",
    "    \n",
    "    return adjacencies, homes, home_indices, start\n",
    "        \n",
    "        "
   ]
  },
  {
   "cell_type": "code",
   "execution_count": 68,
   "metadata": {},
   "outputs": [
    {
     "name": "stdout",
     "output_type": "stream",
     "text": [
      "LOCATION KEYS: \n",
      " dict_keys(['Marbleiron', 'Courtcastle', 'Ironriver', 'Courtwall', 'Morwald', 'Clearnesse', 'Valhaven', 'Buttermead', 'Violetley', 'Westvale', 'Woodice', 'Esterfall', 'Eriwall', 'Goldwyvern', 'Newby', 'Foxvale', 'Morwall', 'Oakmere', 'Foxhaven', 'Freyview', 'Ironshore', 'Oldmoor', 'Dellwyn', 'Butterbush', 'Corbank', 'Esterash', 'Stonefair', 'Westerlight', 'Clearland', 'Bushgate', 'Brightmere', 'Stoneglass', 'Wildemarsh', 'Wellmage', 'Snowshore', 'Irondeer', 'Lightmere', 'Southwheat', 'Westmill', 'Lochmage', 'Shoreburn', 'Erilyn', 'Eastcastle', 'Rosemill', 'Wolflea', 'Greenshore', 'Bluedell', 'Newley', 'Fairsage', 'Greyice'])\n",
      "HOMES: \n",
      " ['Oldmoor', 'Woodice', 'Dellwyn', 'Freyview', 'Oakmere', 'Eriwall', 'Valhaven', 'Newby', 'Foxhaven', 'Morwall', 'Goldwyvern', 'Corbank', 'Westvale', 'Morwald', 'Ironriver', 'Violetley', 'Courtwall', 'Ironshore', 'Marbleiron', 'Buttermead', 'Courtcastle', 'Butterbush', 'Foxvale', 'Esterfall', 'Clearnesse']\n",
      "HOME INDICES: \n",
      " [21, 10, 22, 19, 17, 12, 6, 14, 18, 16, 13, 24, 9, 4, 2, 8, 3, 20, 0, 7, 1, 23, 15, 11, 5]\n"
     ]
    }
   ],
   "source": [
    "output = take_input(f)\n",
    "print(\"LOCATION KEYS: \\n\", output[0].keys())\n",
    "print(\"HOMES: \\n\", output[1])\n",
    "print(\"HOME INDICES: \\n\", output[2])"
   ]
  },
  {
   "cell_type": "markdown",
   "metadata": {},
   "source": [
    "## ------------ Create nodes -------------"
   ]
  },
  {
   "cell_type": "code",
   "execution_count": 111,
   "metadata": {},
   "outputs": [],
   "source": [
    "# TODO: set dynamic limit\n",
    "\n",
    "#Take in dictionary of adjacent locations and list of homes\n",
    "#Return dictionary representing nodes whose base\n",
    "    #Does return repetitions of houses between nodes \n",
    "    #Ignore? will get discounted on dropoff anyway\n",
    "\n",
    "def make_nodes(adjacencies, homes, home_indices):    \n",
    "    limit = 12000 #maximum distance away from node's base\n",
    "    nodes = {} #create a node around every location\n",
    "    \n",
    "    #Create nodes for every home\n",
    "    for home in homes:\n",
    "        nodes[home] = [home] #Start every home's node with itself\n",
    "        \n",
    "        for index in home_indices:\n",
    "            distance = adjacencies[home][index]\n",
    "            if (distance != None) and (distance < limit):\n",
    "                #append other home that is within limit to the node starting at that home\n",
    "                current = nodes[home]\n",
    "                nodes[home].append(homes[index]) #returns None\n",
    "    \n",
    "    #print(nodes)\n",
    "    \n",
    "    \n",
    "    #Clean up node dictionary to only contain largest nodes ------------\n",
    "    deleted_nodes = nodes.copy()\n",
    "    homes_represented = homes\n",
    "    nodes_to_keep = list()\n",
    "    \n",
    "    #for node in node.keys():\n",
    "    \n",
    "    while homes_represented:         \n",
    "        v = list(deleted_nodes.values())\n",
    "        k = list(deleted_nodes.keys())\n",
    "        biggest_node = k[v.index(max(v, key=len))]\n",
    "        \n",
    "        #remove homes that are already included in list\n",
    "        homes_represented = [x for x in homes_represented if x not in nodes[biggest_node]]\n",
    "        \n",
    "        for home in nodes[biggest_node]:\n",
    "            deleted_nodes.pop(home, None)\n",
    "        \n",
    "        nodes_to_keep.append(biggest_node)\n",
    "    \n",
    "    #print(nodes_to_keep)\n",
    "    \n",
    "    return {key: nodes[key] for key in nodes_to_keep}"
   ]
  },
  {
   "cell_type": "code",
   "execution_count": 113,
   "metadata": {},
   "outputs": [
    {
     "data": {
      "text/plain": [
       "{'Oakmere': ['Oakmere',\n",
       "  'Goldwyvern',\n",
       "  'Foxvale',\n",
       "  'Oakmere',\n",
       "  'Dellwyn',\n",
       "  'Esterfall',\n",
       "  'Violetley',\n",
       "  'Corbank'],\n",
       " 'Valhaven': ['Valhaven',\n",
       "  'Goldwyvern',\n",
       "  'Ironriver',\n",
       "  'Marbleiron',\n",
       "  'Clearnesse',\n",
       "  'Courtcastle',\n",
       "  'Woodice',\n",
       "  'Violetley'],\n",
       " 'Freyview': ['Freyview',\n",
       "  'Westvale',\n",
       "  'Ironriver',\n",
       "  'Foxhaven',\n",
       "  'Courtcastle',\n",
       "  'Oldmoor',\n",
       "  'Eriwall'],\n",
       " 'Newby': ['Newby',\n",
       "  'Buttermead',\n",
       "  'Valhaven',\n",
       "  'Marbleiron',\n",
       "  'Morwall',\n",
       "  'Esterfall'],\n",
       " 'Ironshore': ['Ironshore', 'Buttermead', 'Valhaven', 'Foxhaven', 'Eriwall'],\n",
       " 'Butterbush': ['Butterbush',\n",
       "  'Ironshore',\n",
       "  'Ironriver',\n",
       "  'Courtwall',\n",
       "  'Foxhaven'],\n",
       " 'Morwald': ['Morwald', 'Ironshore', 'Oldmoor', 'Violetley']}"
      ]
     },
     "execution_count": 113,
     "metadata": {},
     "output_type": "execute_result"
    }
   ],
   "source": [
    "nodes = make_nodes(output[0], output[1], output[2])\n",
    "nodes "
   ]
  },
  {
   "cell_type": "code",
   "execution_count": 109,
   "metadata": {},
   "outputs": [
    {
     "data": {
      "text/plain": [
       "25"
      ]
     },
     "execution_count": 109,
     "metadata": {},
     "output_type": "execute_result"
    }
   ],
   "source": [
    "locs = list(nodes.values())\n",
    "locs = set(sum(locs, []))\n",
    "len(locs)"
   ]
  },
  {
   "cell_type": "markdown",
   "metadata": {},
   "source": [
    "## -------------- Shortest route between nodes -------------\n",
    "Dijkstra's"
   ]
  },
  {
   "cell_type": "code",
   "execution_count": 116,
   "metadata": {},
   "outputs": [],
   "source": [
    "nodes_travel = list(nodes.keys())"
   ]
  },
  {
   "cell_type": "code",
   "execution_count": 117,
   "metadata": {},
   "outputs": [
    {
     "data": {
      "text/plain": [
       "['Oakmere',\n",
       " 'Valhaven',\n",
       " 'Freyview',\n",
       " 'Newby',\n",
       " 'Ironshore',\n",
       " 'Butterbush',\n",
       " 'Morwald']"
      ]
     },
     "execution_count": 117,
     "metadata": {},
     "output_type": "execute_result"
    }
   ],
   "source": [
    "nodes_travel"
   ]
  },
  {
   "cell_type": "code",
   "execution_count": 120,
   "metadata": {},
   "outputs": [
    {
     "ename": "IndentationError",
     "evalue": "unindent does not match any outer indentation level (<tokenize>, line 43)",
     "output_type": "error",
     "traceback": [
      "\u001b[1;36m  File \u001b[1;32m\"<tokenize>\"\u001b[1;36m, line \u001b[1;32m43\u001b[0m\n\u001b[1;33m    dist[v] = dist[u] + self.graph[u][v]\u001b[0m\n\u001b[1;37m    ^\u001b[0m\n\u001b[1;31mIndentationError\u001b[0m\u001b[1;31m:\u001b[0m unindent does not match any outer indentation level\n"
     ]
    }
   ],
   "source": [
    "def minDistance(self, dist, sptSet): \n",
    "    # Initilaize minimum distance for next node \n",
    "    min = sys.maxint \n",
    "\n",
    "    # Search not nearest vertex not in the  \n",
    "    # shortest path tree \n",
    "    for v in range(self.V): \n",
    "        if dist[v] < min and sptSet[v] == False: \n",
    "            min = dist[v] \n",
    "            min_index = v \n",
    "\n",
    "    return min_index \n",
    "\n",
    "  \n",
    "# Funtion that implements Dijkstra's single source  \n",
    "# shortest path algorithm for a graph represented  \n",
    "# using adjacency matrix representation \n",
    "def dijkstra(self, src): \n",
    "\n",
    "    dist = [sys.maxint] * self.V \n",
    "    dist[src] = 0\n",
    "    sptSet = [False] * self.V \n",
    "\n",
    "    for cout in range(self.V): \n",
    "\n",
    "        # Pick the minimum distance vertex from  \n",
    "        # the set of vertices not yet processed.  \n",
    "        # u is always equal to src in first iteration \n",
    "        u = self.minDistance(dist, sptSet) \n",
    "\n",
    "        # Put the minimum distance vertex in the  \n",
    "        # shotest path tree \n",
    "        sptSet[u] = True\n",
    "\n",
    "        # Update dist value of the adjacent vertices  \n",
    "        # of the picked vertex only if the current  \n",
    "        # distance is greater than new distance and \n",
    "        # the vertex in not in the shotest path tree \n",
    "        for v in range(self.V): \n",
    "            if self.graph[u][v] > 0 and \\ \n",
    "                 sptSet[v] == False and \\ \n",
    "                 dist[v] > dist[u] + self.graph[u][v]: \n",
    "                dist[v] = dist[u] + self.graph[u][v] \n",
    "\n",
    "    self.printSolution(dist) "
   ]
  },
  {
   "cell_type": "code",
   "execution_count": null,
   "metadata": {},
   "outputs": [],
   "source": []
  }
 ],
 "metadata": {
  "kernelspec": {
   "display_name": "Python 3",
   "language": "python",
   "name": "python3"
  },
  "language_info": {
   "codemirror_mode": {
    "name": "ipython",
    "version": 3
   },
   "file_extension": ".py",
   "mimetype": "text/x-python",
   "name": "python",
   "nbconvert_exporter": "python",
   "pygments_lexer": "ipython3",
   "version": "3.7.5"
  }
 },
 "nbformat": 4,
 "nbformat_minor": 2
}
