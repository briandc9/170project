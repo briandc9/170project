{
 "cells": [
  {
   "cell_type": "code",
   "execution_count": 525,
   "metadata": {},
   "outputs": [],
   "source": [
    "import networkx as nx\n",
    "import numpy as np\n",
    "import utils as utils\n",
    "import sys"
   ]
  },
  {
   "cell_type": "code",
   "execution_count": 526,
   "metadata": {},
   "outputs": [],
   "source": [
    "def inputmaker(n):\n",
    "    if n == 50:\n",
    "        f = open(\"50.in\", \"w\")\n",
    "    elif n == 100:\n",
    "        f = open(\"100.in\", \"w\")\n",
    "    elif n == 200:\n",
    "        f = open(\"200.in\", \"w\")\n",
    "    f.write(str(n))\n",
    "    f.write(\"\\n\")\n",
    "    f.write(str(int(n / 2)))\n",
    "    f.write(\"\\n\")\n",
    "    f.write(str(0))\n",
    "    for i in np.arange(1, n):\n",
    "        f.write(\" \")\n",
    "        f.write(str(i))\n",
    "    f.write(\"\\n\")\n",
    "    f.write(str(0))\n",
    "    for i in np.arange(2, n, 2):\n",
    "        f.write(\" \")\n",
    "        f.write(str(i))\n",
    "    f.write(\"\\n\")\n",
    "    f.write(str(0))\n",
    "    f.write(\"\\n\")\n",
    "    for i in np.arange(n):\n",
    "        for j in np.arange(n):\n",
    "            f.write(str(adjlist[i][j]))\n",
    "            if not j == n - 1:\n",
    "                f.write(\" \")\n",
    "        if not i == n - 1:\n",
    "            f.write(\"\\n\")\n",
    "    f.close()\n",
    "    \n",
    "def outputmaker(n):\n",
    "    if n == 50:\n",
    "        f = open(\"50.out\", \"w\")\n",
    "    elif n == 100:\n",
    "        f = open(\"100.out\", \"w\")\n",
    "    elif n == 200:\n",
    "        f = open(\"200.out\", \"w\")\n",
    "    f.write(str(0))\n",
    "    f.write(\"\\n\")\n",
    "    f.write(str(1))\n",
    "    f.write(\"\\n\")\n",
    "    f.write(str(0))\n",
    "    for i in np.arange(2, n, 2):\n",
    "        f.write(\" \")\n",
    "        f.write(str(i))\n",
    "    f.write(\" \")\n",
    "    f.write(str(0))\n",
    "    f.close()\n",
    "\n",
    "def set_weights(G):\n",
    "    for u, v in G.edges:\n",
    "        G[u][v][\"cost\"] = int(np.random.uniform(1, 2000))\n",
    "    \n",
    "def set_AM(G):\n",
    "    init = [['x' for i in np.arange(n)] for j in np.arange(n)]\n",
    "    for u, v in G.edges:\n",
    "        G[u][v]['cost'] = shortest_lengths[u][v]\n",
    "        init[u][v] = G[u][v]['cost']\n",
    "        init[v][u] = G[v][u]['cost']\n",
    "    for i in np.arange(n):\n",
    "        for j in np.arange(n):\n",
    "            if i == j or init[i][j] == 0:\n",
    "                init[i][j] = 'x'\n",
    "    return init\n",
    "\n"
   ]
  },
  {
   "cell_type": "code",
   "execution_count": 527,
   "metadata": {},
   "outputs": [],
   "source": [
    "# n = 50\n",
    "# n = 100\n",
    "n = 200"
   ]
  },
  {
   "cell_type": "code",
   "execution_count": 528,
   "metadata": {},
   "outputs": [],
   "source": [
    "# interchange probabilities\n",
    "if n == 50:\n",
    "    G = nx.gnp_random_graph(n, 0.5)\n",
    "elif n == 100:\n",
    "    G = nx.gnp_random_graph(n, 0.5)\n",
    "elif n == 200:\n",
    "    G = nx.gnp_random_graph(n, 0.5)\n",
    "    \n",
    "set_weights(G)\n",
    "shortest_lengths = dict(nx.all_pairs_dijkstra_path_length(G))\n",
    "\n",
    "adjlist = set_AM(G)\n",
    "adjlist = np.reshape(adjlist, (n, n))\n",
    "\n",
    "inputmaker(n)\n",
    "outputmaker(n)"
   ]
  },
  {
   "cell_type": "code",
   "execution_count": 506,
   "metadata": {},
   "outputs": [],
   "source": []
  }
 ],
 "metadata": {
  "kernelspec": {
   "display_name": "Python 3",
   "language": "python",
   "name": "python3"
  },
  "language_info": {
   "codemirror_mode": {
    "name": "ipython",
    "version": 3
   },
   "file_extension": ".py",
   "mimetype": "text/x-python",
   "name": "python",
   "nbconvert_exporter": "python",
   "pygments_lexer": "ipython3",
   "version": "3.7.4"
  }
 },
 "nbformat": 4,
 "nbformat_minor": 2
}
